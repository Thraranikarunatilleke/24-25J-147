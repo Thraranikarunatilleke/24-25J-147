{
 "cells": [
  {
   "cell_type": "code",
   "execution_count": 1,
   "id": "57b9558a",
   "metadata": {},
   "outputs": [],
   "source": [
    "import pandas as pd\n",
    "from sklearn.model_selection import train_test_split\n",
    "from sklearn.preprocessing import LabelEncoder\n",
    "from sklearn.ensemble import RandomForestClassifier\n",
    "from sklearn.svm import SVC\n",
    "from sklearn.naive_bayes import MultinomialNB\n",
    "from sklearn.metrics import accuracy_score\n",
    "import pickle"
   ]
  },
  {
   "cell_type": "code",
   "execution_count": 2,
   "id": "650ddf09",
   "metadata": {},
   "outputs": [
    {
     "data": {
      "text/html": [
       "<div>\n",
       "<style scoped>\n",
       "    .dataframe tbody tr th:only-of-type {\n",
       "        vertical-align: middle;\n",
       "    }\n",
       "\n",
       "    .dataframe tbody tr th {\n",
       "        vertical-align: top;\n",
       "    }\n",
       "\n",
       "    .dataframe thead th {\n",
       "        text-align: right;\n",
       "    }\n",
       "</style>\n",
       "<table border=\"1\" class=\"dataframe\">\n",
       "  <thead>\n",
       "    <tr style=\"text-align: right;\">\n",
       "      <th></th>\n",
       "      <th>Student Location</th>\n",
       "      <th>Stress Level</th>\n",
       "      <th>Name</th>\n",
       "      <th>Specialization</th>\n",
       "      <th>Doctor Location</th>\n",
       "      <th>Hospital</th>\n",
       "      <th>Consultation_Type</th>\n",
       "      <th>Availability</th>\n",
       "      <th>Consultation Fee</th>\n",
       "      <th>Rate</th>\n",
       "    </tr>\n",
       "  </thead>\n",
       "  <tbody>\n",
       "    <tr>\n",
       "      <th>0</th>\n",
       "      <td>Colombo</td>\n",
       "      <td>Mild</td>\n",
       "      <td>Dr (Mrs.) J.D.V.C. LEKAMWASAM</td>\n",
       "      <td>General Physician</td>\n",
       "      <td>Colombo</td>\n",
       "      <td>Asiri Health</td>\n",
       "      <td>Online</td>\n",
       "      <td>Yes</td>\n",
       "      <td>3000</td>\n",
       "      <td>2.4</td>\n",
       "    </tr>\n",
       "    <tr>\n",
       "      <th>1</th>\n",
       "      <td>Ampara</td>\n",
       "      <td>Severe</td>\n",
       "      <td>Dr. Hiranya Wijesundara</td>\n",
       "      <td>Psychiatrist</td>\n",
       "      <td>Ampara</td>\n",
       "      <td>District General Hospital</td>\n",
       "      <td>In-Person</td>\n",
       "      <td>Yes</td>\n",
       "      <td>0</td>\n",
       "      <td>4.0</td>\n",
       "    </tr>\n",
       "    <tr>\n",
       "      <th>2</th>\n",
       "      <td>Anuradhapura</td>\n",
       "      <td>Severe</td>\n",
       "      <td>Dr. N. Dolawatta</td>\n",
       "      <td>Psychiatrist</td>\n",
       "      <td>Anuradhapura</td>\n",
       "      <td>Teaching Hospital</td>\n",
       "      <td>In-Person</td>\n",
       "      <td>Yes</td>\n",
       "      <td>0</td>\n",
       "      <td>4.3</td>\n",
       "    </tr>\n",
       "    <tr>\n",
       "      <th>3</th>\n",
       "      <td>Anuradhapura</td>\n",
       "      <td>Severe</td>\n",
       "      <td>Dr. Anuradha Ellepola</td>\n",
       "      <td>Psychiatrist</td>\n",
       "      <td>Anuradhapura</td>\n",
       "      <td>Teaching Hospital</td>\n",
       "      <td>In-Person</td>\n",
       "      <td>Yes</td>\n",
       "      <td>0</td>\n",
       "      <td>4.5</td>\n",
       "    </tr>\n",
       "    <tr>\n",
       "      <th>4</th>\n",
       "      <td>Badulla</td>\n",
       "      <td>Severe</td>\n",
       "      <td>Dr. Pubudu Pandithasekara</td>\n",
       "      <td>Psychiatrist</td>\n",
       "      <td>Badulla</td>\n",
       "      <td>Provincial General Hospital</td>\n",
       "      <td>In-Person</td>\n",
       "      <td>Yes</td>\n",
       "      <td>0</td>\n",
       "      <td>4.0</td>\n",
       "    </tr>\n",
       "  </tbody>\n",
       "</table>\n",
       "</div>"
      ],
      "text/plain": [
       "  Student Location Stress Level                           Name  \\\n",
       "0          Colombo         Mild  Dr (Mrs.) J.D.V.C. LEKAMWASAM   \n",
       "1           Ampara       Severe        Dr. Hiranya Wijesundara   \n",
       "2     Anuradhapura       Severe               Dr. N. Dolawatta   \n",
       "3     Anuradhapura       Severe          Dr. Anuradha Ellepola   \n",
       "4          Badulla       Severe      Dr. Pubudu Pandithasekara   \n",
       "\n",
       "      Specialization Doctor Location                     Hospital  \\\n",
       "0  General Physician         Colombo                 Asiri Health   \n",
       "1       Psychiatrist          Ampara    District General Hospital   \n",
       "2       Psychiatrist    Anuradhapura            Teaching Hospital   \n",
       "3       Psychiatrist    Anuradhapura            Teaching Hospital   \n",
       "4       Psychiatrist         Badulla  Provincial General Hospital   \n",
       "\n",
       "  Consultation_Type Availability  Consultation Fee  Rate  \n",
       "0            Online          Yes              3000   2.4  \n",
       "1         In-Person          Yes                 0   4.0  \n",
       "2         In-Person          Yes                 0   4.3  \n",
       "3         In-Person          Yes                 0   4.5  \n",
       "4         In-Person          Yes                 0   4.0  "
      ]
     },
     "execution_count": 2,
     "metadata": {},
     "output_type": "execute_result"
    }
   ],
   "source": [
    "data = pd.read_excel(\"doctors.xlsx\")\n",
    "data.head()"
   ]
  },
  {
   "cell_type": "code",
   "execution_count": 3,
   "id": "a75412b7",
   "metadata": {},
   "outputs": [],
   "source": [
    "# Select features and target\n",
    "features = data[[\"Student Location\", \"Stress Level\"]]\n",
    "target = data[\"Name\"]"
   ]
  },
  {
   "cell_type": "code",
   "execution_count": 4,
   "id": "06355394",
   "metadata": {},
   "outputs": [],
   "source": [
    "# Encode categorical variables\n",
    "feature_encoders = {}\n",
    "target_encoder = LabelEncoder()"
   ]
  },
  {
   "cell_type": "code",
   "execution_count": 5,
   "id": "cc3a3291",
   "metadata": {},
   "outputs": [
    {
     "name": "stderr",
     "output_type": "stream",
     "text": [
      "C:\\Users\\MSI\\AppData\\Local\\Temp\\ipykernel_15960\\1119315298.py:4: SettingWithCopyWarning: \n",
      "A value is trying to be set on a copy of a slice from a DataFrame.\n",
      "Try using .loc[row_indexer,col_indexer] = value instead\n",
      "\n",
      "See the caveats in the documentation: https://pandas.pydata.org/pandas-docs/stable/user_guide/indexing.html#returning-a-view-versus-a-copy\n",
      "  features[column] = le.fit_transform(features[column])\n",
      "C:\\Users\\MSI\\AppData\\Local\\Temp\\ipykernel_15960\\1119315298.py:4: SettingWithCopyWarning: \n",
      "A value is trying to be set on a copy of a slice from a DataFrame.\n",
      "Try using .loc[row_indexer,col_indexer] = value instead\n",
      "\n",
      "See the caveats in the documentation: https://pandas.pydata.org/pandas-docs/stable/user_guide/indexing.html#returning-a-view-versus-a-copy\n",
      "  features[column] = le.fit_transform(features[column])\n"
     ]
    }
   ],
   "source": [
    "# Encode features\n",
    "for column in features.columns:\n",
    "    le = LabelEncoder()\n",
    "    features[column] = le.fit_transform(features[column])\n",
    "    feature_encoders[column] = le"
   ]
  },
  {
   "cell_type": "code",
   "execution_count": 6,
   "id": "7dbac25f",
   "metadata": {},
   "outputs": [],
   "source": [
    "# Encode target\n",
    "target_encoded = target_encoder.fit_transform(target)"
   ]
  },
  {
   "cell_type": "code",
   "execution_count": 7,
   "id": "52590ec4",
   "metadata": {},
   "outputs": [],
   "source": [
    "# Split dataset into training and testing sets\n",
    "X_train, X_test, y_train, y_test = train_test_split(features, target_encoded, test_size=0.3, random_state=42)"
   ]
  },
  {
   "cell_type": "code",
   "execution_count": 8,
   "id": "a5ff3cc0",
   "metadata": {},
   "outputs": [],
   "source": [
    "# Define models\n",
    "models = {\n",
    "    \"Random Forest\": RandomForestClassifier(random_state=42),\n",
    "    \"SVM\": SVC(probability=True, random_state=42),\n",
    "    \"Naive Bayes\": MultinomialNB()\n",
    "}"
   ]
  },
  {
   "cell_type": "code",
   "execution_count": 9,
   "id": "8a93231e",
   "metadata": {},
   "outputs": [
    {
     "name": "stdout",
     "output_type": "stream",
     "text": [
      "Random Forest Accuracy: 0.014925373134328358\n",
      "SVM Accuracy: 0.0\n",
      "Naive Bayes Accuracy: 0.014925373134328358\n"
     ]
    }
   ],
   "source": [
    "# Train and evaluate models\n",
    "best_model = None\n",
    "best_score = 0\n",
    "best_model_name = \"\"\n",
    "\n",
    "for name, model in models.items():\n",
    "    model.fit(X_train, y_train)\n",
    "    y_pred = model.predict(X_test)\n",
    "    score = accuracy_score(y_test, y_pred)\n",
    "    print(f\"{name} Accuracy: {score}\")\n",
    "    \n",
    "    if score > best_score:\n",
    "        best_score = score\n",
    "        best_model = model\n",
    "        best_model_name = name"
   ]
  },
  {
   "cell_type": "code",
   "execution_count": 10,
   "id": "11774311",
   "metadata": {},
   "outputs": [
    {
     "name": "stdout",
     "output_type": "stream",
     "text": [
      "Best model: Random Forest with accuracy: 0.014925373134328358\n",
      "Model saved as: best_model_Random Forest.pkl\n",
      "Feature encoders and target encoder saved successfully.\n"
     ]
    }
   ],
   "source": [
    "# Save the best model\n",
    "if best_model:\n",
    "    with open(f\"best_model_{best_model_name}.pkl\", \"wb\") as f:\n",
    "        pickle.dump(best_model, f)\n",
    "    print(f\"Best model: {best_model_name} with accuracy: {best_score}\")\n",
    "    print(f\"Model saved as: best_model_{best_model_name}.pkl\")\n",
    "\n",
    "# Save the encoders\n",
    "with open(\"feature_encoders.pkl\", \"wb\") as f:\n",
    "    pickle.dump(feature_encoders, f)\n",
    "\n",
    "with open(\"target_encoder.pkl\", \"wb\") as f:\n",
    "    pickle.dump(target_encoder, f)\n",
    "\n",
    "print(\"Feature encoders and target encoder saved successfully.\")"
   ]
  },
  {
   "cell_type": "code",
   "execution_count": null,
   "id": "0cd28c4f",
   "metadata": {},
   "outputs": [
    {
     "name": "stdout",
     "output_type": "stream",
     "text": [
      "Unique values and their counts in the 'Name' column:\n",
      "Student Location\n",
      "Colombo           219\n",
      "Colombo            29\n",
      "Kandy              28\n",
      "Gampaha            26\n",
      "Galle              25\n",
      "Kalutara           15\n",
      "Kurunegala         14\n",
      "Kandy              13\n",
      " Galle              8\n",
      "Matara              8\n",
      "Anuradhapura        7\n",
      "Ratnapura           6\n",
      "Trincomalee         5\n",
      "Badulla             5\n",
      "Hambantota          4\n",
      "Puttalam            4\n",
      " Anuradhapura       3\n",
      "Kegalle             3\n",
      "Kalutara            3\n",
      "Nuwara Eliya        3\n",
      "Jaffna              2\n",
      "Matale              2\n",
      " Kandy              2\n",
      "Polonnaruwa         2\n",
      "Kilinochchi         1\n",
      "Kalmunai            1\n",
      "Ampara              1\n",
      "Batticaloa          1\n",
      "Mullaitivu          1\n",
      "Monaragala          1\n",
      "Mannar              1\n",
      "Vavuniya            1\n",
      "Name: count, dtype: int64\n"
     ]
    }
   ],
   "source": [
    "# Get unique values and their counts from the 'Name' column\n",
    "unique_values_counts = data[\"Name\"].value_counts()\n",
    "\n",
    "print(\"Unique values and their counts in the 'Name' column:\")\n",
    "print(unique_values_counts)"
   ]
  }
 ],
 "metadata": {
  "kernelspec": {
   "display_name": "Python 3",
   "language": "python",
   "name": "python3"
  },
  "language_info": {
   "codemirror_mode": {
    "name": "ipython",
    "version": 3
   },
   "file_extension": ".py",
   "mimetype": "text/x-python",
   "name": "python",
   "nbconvert_exporter": "python",
   "pygments_lexer": "ipython3",
   "version": "3.11.9"
  }
 },
 "nbformat": 4,
 "nbformat_minor": 5
}
